{
 "cells": [
  {
   "cell_type": "markdown",
   "metadata": {},
   "source": [
    "![imagen](./img/ejercicios.png)\n",
    "# Markdown\n",
    "\n",
    "## Ejercicio 1\n",
    "Vamos a aplicar los conocimientos adquiridos en este notebook, intentando reproducir la siguiente imagen en markdown. En el link va la página: https://www.kaggle.com/\n",
    "\n",
    "**TIP**: en [este enlace](https://www.markdownguide.org/basic-syntax/) tienes más ejemplos, por si te atascas con algo :)\n"
   ]
  },
  {
   "cell_type": "markdown",
   "metadata": {},
   "source": [
    "![imagen](./img/ejercicio_markdown.png)"
   ]
  },
  {
   "cell_type": "markdown",
   "metadata": {},
   "source": [
    "# Aptitudes de Data Scientist\n",
    "> **Lo más importante**\n",
    "> - Matemáticas\n",
    "> - Python\n",
    "> - SQL\n",
    ">\n",
    "> ![image](.\\img\\python.png)\n",
    ">\n",
    "> Otro tema importante es el *Business Intelligence*\n",
    ">\n",
    "> Si tienes dudas, puedes escribirme a: [mdkeene@gmail.com](mdkeene@gmail.com)\n",
    ">\n",
    "> En esta página se aprende mucho de machine learning: **[página con ML](http://www.kaggle.com)**"
   ]
  },
  {
   "cell_type": "markdown",
   "metadata": {},
   "source": [
    "## Ejercicio 2\n",
    "Para este ejercicio vas a crear dos nuevos elementos que no hemos visto en la teoría: una tabla y una fórmula. Busca en la web la sintaxis y replica ambos elementos. Ojo con los espacios en blanco entre la tabla y la fórmula. (no es necesaria la tira azul)"
   ]
  },
  {
   "cell_type": "markdown",
   "metadata": {},
   "source": [
    "<div style=\"text-align:center\"><img src=\"./img/md_ejercicio2.png\" /></div>"
   ]
  },
  {
   "cell_type": "markdown",
   "metadata": {},
   "source": [
    "| Ramp Up     | Data Analysis| Machine Learning  | Data & Business  |\n",
    "| ----------- | -----------  | ----------------  | ---------------  |\n",
    "| Python| EDA          | Supervised        | Productivización |\n",
    "| Estadística | R            | Non Supervised    | Storytelling     |\n",
    "| SQL         | Feat. Eng    | Deep learning     | API              |\n",
    "\n",
    "<br><br>\n",
    "\n",
    "$$\\sqrt{3x-1}+(1+x)^2                              "
   ]
  }
 ],
 "metadata": {
  "kernelspec": {
   "display_name": "Python 3.7.4 64-bit",
   "language": "python",
   "name": "python3"
  },
  "language_info": {
   "codemirror_mode": {
    "name": "ipython",
    "version": 3
   },
   "file_extension": ".py",
   "mimetype": "text/x-python",
   "name": "python",
   "nbconvert_exporter": "python",
   "pygments_lexer": "ipython3",
   "version": "3.7.4"
  },
  "vscode": {
   "interpreter": {
    "hash": "90139cb9a825bf3d63f6f6704e828dbd1ff7edbd4d0c6e906a71235d6efc74af"
   }
  }
 },
 "nbformat": 4,
 "nbformat_minor": 4
}
