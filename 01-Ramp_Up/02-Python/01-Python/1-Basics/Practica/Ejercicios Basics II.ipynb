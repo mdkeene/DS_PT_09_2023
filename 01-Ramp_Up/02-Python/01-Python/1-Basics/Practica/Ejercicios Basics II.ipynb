{
 "cells": [
  {
   "cell_type": "markdown",
   "metadata": {},
   "source": [
    "![imagen](./img/ejercicios.png)"
   ]
  },
  {
   "cell_type": "markdown",
   "metadata": {},
   "source": [
    "# Ejercicios Python Basics II"
   ]
  },
  {
   "cell_type": "markdown",
   "metadata": {},
   "source": [
    "## Ejercicio 1\n",
    "* Crea dos variables numericas: un `int` y un `float`\n",
    "* Comprueba sus tipos\n",
    "* Sumalas en otra nueva\n",
    "* ¿De qué tipo es la nueva variable?\n",
    "* Elimina las dos primeras variables creadas"
   ]
  },
  {
   "cell_type": "code",
   "execution_count": 10,
   "metadata": {},
   "outputs": [
    {
     "name": "stdout",
     "output_type": "stream",
     "text": [
      "5 <class 'int'> 5.5 <class 'float'>\n",
      "10.5 <class 'float'>\n"
     ]
    },
    {
     "ename": "NameError",
     "evalue": "name 'var_int' is not defined",
     "output_type": "error",
     "traceback": [
      "\u001b[1;31m---------------------------------------------------------------------------\u001b[0m",
      "\u001b[1;31mNameError\u001b[0m                                 Traceback (most recent call last)",
      "\u001b[1;32mc:\\Users\\mdkee\\Documents\\GitHub\\DS_PT_09_2023\\01-Ramp_Up\\02-Python\\01-Python\\1-Basics\\Practica\\Ejercicios Basics II.ipynb Cell 4\u001b[0m line \u001b[0;36m7\n\u001b[0;32m      <a href='vscode-notebook-cell:/c%3A/Users/mdkee/Documents/GitHub/DS_PT_09_2023/01-Ramp_Up/02-Python/01-Python/1-Basics/Practica/Ejercicios%20Basics%20II.ipynb#W3sZmlsZQ%3D%3D?line=4'>5</a>\u001b[0m \u001b[39mprint\u001b[39m(var_com, \u001b[39mtype\u001b[39m(var_com))\n\u001b[0;32m      <a href='vscode-notebook-cell:/c%3A/Users/mdkee/Documents/GitHub/DS_PT_09_2023/01-Ramp_Up/02-Python/01-Python/1-Basics/Practica/Ejercicios%20Basics%20II.ipynb#W3sZmlsZQ%3D%3D?line=5'>6</a>\u001b[0m \u001b[39mdel\u001b[39;00m var_int\n\u001b[1;32m----> <a href='vscode-notebook-cell:/c%3A/Users/mdkee/Documents/GitHub/DS_PT_09_2023/01-Ramp_Up/02-Python/01-Python/1-Basics/Practica/Ejercicios%20Basics%20II.ipynb#W3sZmlsZQ%3D%3D?line=6'>7</a>\u001b[0m \u001b[39mprint\u001b[39m(var_int)\n",
      "\u001b[1;31mNameError\u001b[0m: name 'var_int' is not defined"
     ]
    }
   ],
   "source": [
    "var_int = 5\n",
    "var_float = 5.5\n",
    "print(var_int, type(var_int), var_float, type(var_float))\n",
    "var_com = var_int + var_float\n",
    "print(var_com, type(var_com))\n",
    "del var_int\n",
    "print(var_int)"
   ]
  },
  {
   "cell_type": "markdown",
   "metadata": {},
   "source": [
    "## Ejercicio 2\n",
    "Escribe un programa para pasar de grados a radianes. Hay que usar `input`. Recuerda que la conversión se realiza mediante\n",
    "\n",
    "radianes = grados*(pi/180)"
   ]
  },
  {
   "cell_type": "code",
   "execution_count": 1,
   "metadata": {},
   "outputs": [],
   "source": [
    "import math"
   ]
  },
  {
   "cell_type": "code",
   "execution_count": 41,
   "metadata": {},
   "outputs": [
    {
     "name": "stdout",
     "output_type": "stream",
     "text": [
      "radians are 0.2617993877991494\n"
     ]
    }
   ],
   "source": [
    "def calc_rad():\n",
    "    degrees = int(input(\"how many degrees?\"))\n",
    "    rad = degrees*(math.pi/180)\n",
    "    return rad\n",
    "print(\"radians are\", calc_rad())\n"
   ]
  },
  {
   "cell_type": "code",
   "execution_count": 42,
   "metadata": {},
   "outputs": [
    {
     "data": {
      "text/plain": [
       "1.3089969389957472"
      ]
     },
     "execution_count": 42,
     "metadata": {},
     "output_type": "execute_result"
    }
   ],
   "source": [
    "calc_rad()"
   ]
  },
  {
   "cell_type": "markdown",
   "metadata": {},
   "source": [
    "## Ejercicio 3\n",
    "Escribe un programa que calcule el area de un paralelogramo (base x altura). También con `input`"
   ]
  },
  {
   "cell_type": "code",
   "execution_count": 56,
   "metadata": {},
   "outputs": [
    {
     "name": "stdout",
     "output_type": "stream",
     "text": [
      "14\n"
     ]
    }
   ],
   "source": [
    "base, height = input(\"Give base and height separated by a space\").split()\n",
    "base_num = int(base)\n",
    "height_num = int(height)\n",
    "area = base_num * height_num\n",
    "print(area)"
   ]
  },
  {
   "cell_type": "code",
   "execution_count": 57,
   "metadata": {},
   "outputs": [
    {
     "name": "stdout",
     "output_type": "stream",
     "text": [
      "35\n"
     ]
    }
   ],
   "source": [
    "base = input(\"base\")\n",
    "height = input(\"height\")\n",
    "print(int(base)*int(height))\n",
    "\n"
   ]
  },
  {
   "cell_type": "markdown",
   "metadata": {},
   "source": [
    "## Ejercicio 4\n",
    "Tenemos las siguientes variables:\n",
    "\n",
    "```Python\n",
    "A = 4\n",
    "B = \"Text\"\n",
    "C = 4.1\n",
    "```\n",
    "\n",
    "Comprueba:\n",
    "1. Si A y B son equivalentes\n",
    "2. Si A y C NO son equivalentes\n",
    "3. Si A es mayor que C \n",
    "4. Si C es menor o igual que A\n",
    "5. Si B NO es equivalente a C"
   ]
  },
  {
   "cell_type": "code",
   "execution_count": 60,
   "metadata": {},
   "outputs": [
    {
     "name": "stdout",
     "output_type": "stream",
     "text": [
      "1. False\n",
      "2. True\n",
      "3. False\n",
      "4. False\n",
      "5. True\n"
     ]
    }
   ],
   "source": [
    "a = 4\n",
    "b = \"Text\"\n",
    "c = 4.1\n",
    "\n",
    "print(\"1.\", a == b)\n",
    "print(\"2.\", a != c)\n",
    "print(\"3.\", a > c)\n",
    "print(\"4.\", c <= a)\n",
    "print(\"5.\", b != c)"
   ]
  },
  {
   "cell_type": "markdown",
   "metadata": {},
   "source": [
    "## Ejercicio 5\n",
    "Crea un programa donde se recojan dos inputs del usuario, y el output del programa sea si esos inputs son iguales o no"
   ]
  },
  {
   "cell_type": "code",
   "execution_count": 63,
   "metadata": {},
   "outputs": [
    {
     "name": "stdout",
     "output_type": "stream",
     "text": [
      "Same!\n"
     ]
    }
   ],
   "source": [
    "a = input(\"first input\")\n",
    "b = input(\"second input\")\n",
    "\n",
    "if a == b:\n",
    "    print(\"Same!\")\n",
    "else:\n",
    "    print(\"No same!\")"
   ]
  },
  {
   "cell_type": "code",
   "execution_count": 67,
   "metadata": {},
   "outputs": [
    {
     "name": "stdout",
     "output_type": "stream",
     "text": [
      "No Same!\n"
     ]
    }
   ],
   "source": [
    "a = input(\"first input\")\n",
    "b = input(\"second input\")\n",
    "c = a == b\n",
    "\n",
    "if c == True:\n",
    "    print(\"Same!\")\n",
    "else:\n",
    "    print(\"No Same!\")"
   ]
  },
  {
   "cell_type": "code",
   "execution_count": 70,
   "metadata": {},
   "outputs": [
    {
     "name": "stdout",
     "output_type": "stream",
     "text": [
      "No same\n"
     ]
    }
   ],
   "source": [
    "a = input(\"first input\")\n",
    "b = input(\"second input\")\n",
    "c = a == b\n",
    "\n",
    "if len(str(c)) > 4:\n",
    "    print(\"No same\")\n",
    "else:\n",
    "    print(\"Same!\")"
   ]
  },
  {
   "cell_type": "code",
   "execution_count": 72,
   "metadata": {},
   "outputs": [
    {
     "name": "stdout",
     "output_type": "stream",
     "text": [
      "Same!\n"
     ]
    }
   ],
   "source": [
    "a, b = input(\"two inputs divided by a space\").split()\n",
    "\n",
    "if a == b:\n",
    "    print(\"Same!\")\n",
    "else:\n",
    "    print(\"No same!\")"
   ]
  },
  {
   "cell_type": "markdown",
   "metadata": {},
   "source": [
    "## Ejercicio 6\n",
    "Mismo programa que en 5, pero en esta ocasión tienen que ser tres inputs y dos salidas. Una de las salidas que nos indique si todos son iguales, y la otra si al menos dos inputs sí que lo son"
   ]
  },
  {
   "cell_type": "code",
   "execution_count": 14,
   "metadata": {},
   "outputs": [
    {
     "name": "stdout",
     "output_type": "stream",
     "text": [
      "not same\n",
      "No so true dey same\n"
     ]
    }
   ],
   "source": [
    "x, y, z = input(\"three inputs divided by commas\").split(sep=',')\n",
    "\n",
    "if x == y == z:\n",
    "    print(\"Same\")\n",
    "else:\n",
    "    print(\"not same\")\n",
    "\n",
    "if (x == y) or (x == z) or (y == z):\n",
    "    print(\"True, dey same\")\n",
    "else:\n",
    "    print(\"No so true dey same\")"
   ]
  },
  {
   "cell_type": "code",
   "execution_count": 88,
   "metadata": {},
   "outputs": [
    {
     "name": "stdout",
     "output_type": "stream",
     "text": [
      "False\n",
      "True\n"
     ]
    }
   ],
   "source": [
    "q = input(\"first input\")\n",
    "w = input(\"second input\")\n",
    "e = input(\"third input\")\n",
    "\n",
    "r = str(q == w == e)\n",
    "t = (q is w) or (w is e) or (q is e)\n",
    "\n",
    "print(r == \"True\")\n",
    "print(t)"
   ]
  },
  {
   "cell_type": "code",
   "execution_count": 92,
   "metadata": {},
   "outputs": [
    {
     "name": "stdout",
     "output_type": "stream",
     "text": [
      "False\n",
      "True\n"
     ]
    }
   ],
   "source": [
    "q = input(\"first input\")\n",
    "w = input(\"second input\")\n",
    "e = input(\"third input\")\n",
    "\n",
    "print(q is w is e)\n",
    "print((q is w) or (w is e) or (q is e))"
   ]
  },
  {
   "cell_type": "code",
   "execution_count": 93,
   "metadata": {},
   "outputs": [
    {
     "name": "stdout",
     "output_type": "stream",
     "text": [
      "False\n",
      "True\n"
     ]
    }
   ],
   "source": [
    "q, w, e = input(\"three inputs divided by spaces\").split()\n",
    "\n",
    "print(q is w is e)\n",
    "print((q is w) or (w is e) or (q is e))"
   ]
  },
  {
   "cell_type": "markdown",
   "metadata": {},
   "source": [
    "## Ejercicio 7\n",
    "Crea un programa que recoja dos inputs. Tiene que comprobar si su suma es igual, superior o inferior a 10"
   ]
  },
  {
   "cell_type": "code",
   "execution_count": 108,
   "metadata": {},
   "outputs": [
    {
     "name": "stdout",
     "output_type": "stream",
     "text": [
      "If you add 1 and 2\n",
      "it's smaller than 10\n"
     ]
    }
   ],
   "source": [
    "x, y = input(\"two numbers separated by spaces\").split()\n",
    "\n",
    "x_int = int(x)\n",
    "y_int = int(y)\n",
    "\n",
    "print(\"If you add {} and {}\".format(x, y))\n",
    "\n",
    "if (x_int + y_int) == 10:\n",
    "    print(\"It's 10\")\n",
    "elif (x_int + y_int) > 10:\n",
    "    print(\"It's bigger than 10!\")\n",
    "else:\n",
    "    print(\"it's smaller than 10\")\n",
    "\n",
    "\n"
   ]
  },
  {
   "cell_type": "markdown",
   "metadata": {},
   "source": [
    "## Ejercicio 8\n",
    "Razona sin ejecutar código el output que obtendremos de las siguientes sentencias\n",
    "1. True and True and False\n",
    "2. not ((True or False) and (True or False))\n",
    "3. (False or False or False or True) and False\n",
    "4. not False and True and not True"
   ]
  },
  {
   "cell_type": "markdown",
   "metadata": {},
   "source": [
    "1. False\n",
    "2. False\n",
    "3. False\n",
    "4. False"
   ]
  },
  {
   "cell_type": "code",
   "execution_count": 120,
   "metadata": {},
   "outputs": [
    {
     "name": "stdout",
     "output_type": "stream",
     "text": [
      "False\n",
      "False\n",
      "False\n",
      "False\n",
      "False\n",
      "False\n",
      "True\n",
      "False\n",
      "True\n"
     ]
    }
   ],
   "source": [
    "print(True and True and False)\n",
    "print(not ((True or False) and (True or False)))\n",
    "print(not (True) and (True))\n",
    "print((False or False or False or True) and False)\n",
    "print(not False and True and not True)\n",
    "print(True and False)\n",
    "print(False or True)\n",
    "print(not(True or False))\n",
    "print(True or False)"
   ]
  },
  {
   "cell_type": "markdown",
   "metadata": {},
   "source": [
    "## Ejercicio 9\n",
    "Para este ejercicio vamos a poner en práctica [las funciones built in](https://docs.python.org/3/library/functions.html).\n",
    "\n",
    "1. Calcula el máximo de la lista: [4, 6, 8, -1]\n",
    "2. Suma todos los elementos de la lista anterior\n",
    "3. Redondea este float a 3 dígitos decimales: 63.451256965\n",
    "4. Valor absoluto de: -74"
   ]
  },
  {
   "cell_type": "code",
   "execution_count": 125,
   "metadata": {},
   "outputs": [
    {
     "name": "stdout",
     "output_type": "stream",
     "text": [
      "8\n",
      "17\n",
      "63.451\n",
      "74\n"
     ]
    }
   ],
   "source": [
    "my_list = [4, 6, 8, -1]\n",
    "print(max(my_list))\n",
    "print(sum(my_list))\n",
    "print(round(63.451256965, 3))\n",
    "print(abs(-74))"
   ]
  },
  {
   "cell_type": "markdown",
   "metadata": {},
   "source": [
    "## Ejercicio 10\n",
    "Para el siguiente string se pide imprimir por pantalla los siguientes casos\n",
    "\n",
    "    \"A quien madruga, dios le ayuda\"\n",
    "\n",
    "1. Pasarlo todo a mayusculas\n",
    "2. Pasarlo todo a minusculas\n",
    "3. Pasar a mayusculas solo las iniciales de las palabras\n",
    "4. Crea una lista dividiendolo por sus espacios\n",
    "5. Sustituye las comas `,` por puntos y comas `;`\n",
    "6. Elimina las `a` minusculas"
   ]
  },
  {
   "cell_type": "code",
   "execution_count": 147,
   "metadata": {},
   "outputs": [
    {
     "name": "stdout",
     "output_type": "stream",
     "text": [
      "1. A QUIEN MADRUGA, DIOS LE AYUDA\n",
      "2. a quien madruga, dios le ayuda\n",
      "3. A Quien Madruga, Dios Le Ayuda\n",
      "4. ['A', 'quien', 'madruga,', 'dios', 'le', 'ayuda']\n",
      "5. A quien madruga; dios le ayuda\n",
      "6. A quien mdrug, dios le yud\n",
      "\n",
      "\n",
      "A QUIEN MADRUGA, DIOS LE AYUDA\n",
      "a quien madruga, dios le ayuda\n",
      "A Quien Madruga, Dios Le Ayuda\n"
     ]
    }
   ],
   "source": [
    "sentence = \"A quien madruga, dios le ayuda\"\n",
    "print(\"1.\", sentence.upper())\n",
    "print(\"2.\", sentence.lower())\n",
    "print(\"3.\", sentence.title())\n",
    "print(\"4.\", sentence.split())\n",
    "print(\"5.\", sentence.replace(\",\", \";\"))\n",
    "print(\"6.\", sentence.replace(\"a\",\"\"))\n",
    "print(\"\\n\")\n",
    "\n",
    "print(sentence.upper(), \n",
    "      sentence.lower(), \n",
    "      sentence.title(), sep=\"\\n\")"
   ]
  },
  {
   "cell_type": "markdown",
   "metadata": {},
   "source": [
    "## Ejercicio 11\n",
    "1. Crea una lista con 3 elementos numéricos\n",
    "2. Añade un cuarto elemento\n",
    "3. Calcula la suma de todos\n",
    "4. Elimina el segundo elemento de la lista\n",
    "5. Añade otro elemento en la posicion 3 de la lista\n",
    "6. Crea otra lista con 4 elementos y concaténala a la que ya tenías."
   ]
  },
  {
   "cell_type": "code",
   "execution_count": 15,
   "metadata": {},
   "outputs": [
    {
     "name": "stdout",
     "output_type": "stream",
     "text": [
      "1\n",
      "[1, 3, 6, 12]\n",
      "22\n",
      "[1, 6, 12]\n",
      "[1, 6, 7, 12]\n",
      "[24, 36, 48, 99]\n",
      "[1, 6, 7, 12, 24, 36, 48, 99]\n",
      "[1, 6, 7, 12, 24, 36, 48, 99]\n"
     ]
    }
   ],
   "source": [
    "numbers = [1, 3, 6]\n",
    "print(numbers[0])\n",
    "\n",
    "numbers.append(12)\n",
    "print(numbers)\n",
    "\n",
    "print(sum(numbers))\n",
    "\n",
    "del numbers[1]\n",
    "print(numbers)\n",
    "\n",
    "numbers.insert(2, 7)\n",
    "print(numbers)\n",
    "\n",
    "numbers2 = [24, 36, 48, 99]\n",
    "print(numbers2)\n",
    "\n",
    "numbers3 = numbers + numbers2\n",
    "print(numbers3)\n",
    "\n",
    "numbers.extend(numbers2)\n",
    "print(numbers)\n",
    "\n"
   ]
  }
 ],
 "metadata": {
  "kernelspec": {
   "display_name": "Python 3",
   "language": "python",
   "name": "python3"
  },
  "language_info": {
   "codemirror_mode": {
    "name": "ipython",
    "version": 3
   },
   "file_extension": ".py",
   "mimetype": "text/x-python",
   "name": "python",
   "nbconvert_exporter": "python",
   "pygments_lexer": "ipython3",
   "version": "3.11.5"
  },
  "nbTranslate": {
   "displayLangs": [
    "*"
   ],
   "hotkey": "alt-t",
   "langInMainMenu": true,
   "sourceLang": "en",
   "targetLang": "fr",
   "useGoogleTranslate": true
  },
  "varInspector": {
   "cols": {
    "lenName": 16,
    "lenType": 16,
    "lenVar": 40
   },
   "kernels_config": {
    "python": {
     "delete_cmd_postfix": "",
     "delete_cmd_prefix": "del ",
     "library": "var_list.py",
     "varRefreshCmd": "print(var_dic_list())"
    },
    "r": {
     "delete_cmd_postfix": ") ",
     "delete_cmd_prefix": "rm(",
     "library": "var_list.r",
     "varRefreshCmd": "cat(var_dic_list()) "
    }
   },
   "types_to_exclude": [
    "module",
    "function",
    "builtin_function_or_method",
    "instance",
    "_Feature"
   ],
   "window_display": false
  }
 },
 "nbformat": 4,
 "nbformat_minor": 4
}
