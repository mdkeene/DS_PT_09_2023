{
 "cells": [
  {
   "cell_type": "markdown",
   "metadata": {},
   "source": [
    "![imagen](./img/ejercicios.png)"
   ]
  },
  {
   "cell_type": "markdown",
   "metadata": {},
   "source": [
    "# Ejercicios funciones\n",
    "## Ejercicio 1\n",
    "Escribe una función que convierta números del 1 al 7 en nombres de los dias de la semana. La función constará de un único argumento numérico y una salida de tipo string"
   ]
  },
  {
   "cell_type": "code",
   "execution_count": 6,
   "metadata": {},
   "outputs": [],
   "source": [
    "def numbers_days(day:int) -> str:\n",
    "    if day == 1:\n",
    "        return(\"Lunes\")\n",
    "    elif day == 2:\n",
    "        return(\"Martes\")\n",
    "    else:\n",
    "        return(\"Ese no es un número entre 1 y 7\")\n"
   ]
  },
  {
   "cell_type": "code",
   "execution_count": 5,
   "metadata": {},
   "outputs": [
    {
     "data": {
      "text/plain": [
       "'Lunes'"
      ]
     },
     "execution_count": 5,
     "metadata": {},
     "output_type": "execute_result"
    }
   ],
   "source": [
    "numbers_days(1)"
   ]
  },
  {
   "cell_type": "code",
   "execution_count": 31,
   "metadata": {},
   "outputs": [],
   "source": [
    "def numbers_days(dia:int) -> str:\n",
    "    dict_dias = {1: \"Lunes\", 2: \"Martes\", 3: \"Miercoles\"}\n",
    "    if dia in dict_dias:\n",
    "        return dict_dias[dia]\n",
    "    else:\n",
    "        return(\"Mal\")"
   ]
  },
  {
   "cell_type": "code",
   "execution_count": 32,
   "metadata": {},
   "outputs": [
    {
     "data": {
      "text/plain": [
       "'Martes'"
      ]
     },
     "execution_count": 32,
     "metadata": {},
     "output_type": "execute_result"
    }
   ],
   "source": [
    "numbers_days(2)"
   ]
  },
  {
   "cell_type": "code",
   "execution_count": 14,
   "metadata": {},
   "outputs": [],
   "source": [
    "def numbers_days(dia:int) -> str:\n",
    "    dict_dias = {1: \"Lunes\", 2: \"Martes\", 3: \"Miercoles\"}\n",
    "\n",
    "    return dict_dias.get(dia, \"eso no existe\")"
   ]
  },
  {
   "cell_type": "code",
   "execution_count": 15,
   "metadata": {},
   "outputs": [
    {
     "data": {
      "text/plain": [
       "'eso no existe'"
      ]
     },
     "execution_count": 15,
     "metadata": {},
     "output_type": "execute_result"
    }
   ],
   "source": [
    "numbers_days(7)"
   ]
  },
  {
   "cell_type": "code",
   "execution_count": 49,
   "metadata": {},
   "outputs": [
    {
     "name": "stdout",
     "output_type": "stream",
     "text": [
      "{1: 'hey', 2: 'you', 3: 'how', 4: 'you', 5: 'doin', 6: '?'}\n",
      "hey\n"
     ]
    }
   ],
   "source": [
    "my_dict = {1: \"hey\", 2: \"you\", 3: \"how\", 4: \"you\", 5: \"doin\", 6: \"?\"}\n",
    "print(my_dict)\n",
    "\n",
    "x = 1\n",
    "\n",
    "if x in my_dict:\n",
    "    print(my_dict[x])"
   ]
  },
  {
   "cell_type": "markdown",
   "metadata": {},
   "source": [
    "## Ejercicio 2\n",
    "En el ejercicio 8 de bucles, creábamos una pirámide invertida, cuyo número de pisos venía determinado por un input del usuario. Crea una función que replique el comportamiento de la pirámide, y utiliza un único parámetro de entrada de la función para determinar el número de filas de la pirámide, es decir, elimina la sentencia input."
   ]
  },
  {
   "cell_type": "code",
   "execution_count": 98,
   "metadata": {},
   "outputs": [],
   "source": [
    "def inv_pyr():\n",
    "    try:\n",
    "        num = int(input())\n",
    "        rango = list(range(1, num+1))\n",
    "        while len(rango) > 0:\n",
    "            for i in rango:\n",
    "                print(*rango)\n",
    "                rango.pop(0)\n",
    "    except ValueError:\n",
    "        print(\"Dumbass\")\n",
    "        "
   ]
  },
  {
   "cell_type": "code",
   "execution_count": 99,
   "metadata": {},
   "outputs": [
    {
     "name": "stdout",
     "output_type": "stream",
     "text": [
      "1 2 3 4 5 6 7\n",
      "2 3 4 5 6 7\n",
      "3 4 5 6 7\n",
      "4 5 6 7\n",
      "5 6 7\n",
      "6 7\n",
      "7\n"
     ]
    }
   ],
   "source": [
    "inv_pyr()"
   ]
  },
  {
   "cell_type": "code",
   "execution_count": 2,
   "metadata": {},
   "outputs": [],
   "source": [
    "def inverted_numbers():\n",
    "    while True:\n",
    "        try:\n",
    "            num = int(input(\"A number, any number\"))\n",
    "            rango = list(range(1, num+1))\n",
    "            while len(rango) > 0:\n",
    "                for i in rango:\n",
    "                    print(*rango)\n",
    "                    rango.pop(0)\n",
    "        except:\n",
    "            print(\" Give me a number\")\n",
    "            continue\n",
    "        else:\n",
    "            break"
   ]
  },
  {
   "cell_type": "code",
   "execution_count": 3,
   "metadata": {},
   "outputs": [
    {
     "name": "stdout",
     "output_type": "stream",
     "text": [
      "1 2 3 4 5 6 7 8 9 10\n",
      "2 3 4 5 6 7 8 9 10\n",
      "3 4 5 6 7 8 9 10\n",
      "4 5 6 7 8 9 10\n",
      "5 6 7 8 9 10\n",
      "6 7 8 9 10\n",
      "7 8 9 10\n",
      "8 9 10\n",
      "9 10\n",
      "10\n"
     ]
    }
   ],
   "source": [
    "inverted_numbers()"
   ]
  },
  {
   "cell_type": "code",
   "execution_count": 119,
   "metadata": {},
   "outputs": [],
   "source": [
    "def inv_pyr(num:int) -> int:\n",
    "    rango = list(range(1, num+1))\n",
    "    while len(rango) > 0:\n",
    "        for i in rango:\n",
    "            print(*rango)\n",
    "            rango.pop(0)\n"
   ]
  },
  {
   "cell_type": "code",
   "execution_count": 239,
   "metadata": {},
   "outputs": [
    {
     "name": "stdout",
     "output_type": "stream",
     "text": [
      "1 2 3 4 5 6 7 8 9 10\n",
      "2 3 4 5 6 7 8 9 10\n",
      "3 4 5 6 7 8 9 10\n",
      "4 5 6 7 8 9 10\n",
      "5 6 7 8 9 10\n",
      "6 7 8 9 10\n",
      "7 8 9 10\n",
      "8 9 10\n",
      "9 10\n",
      "10\n"
     ]
    }
   ],
   "source": [
    "inv_pyr(10)"
   ]
  },
  {
   "cell_type": "markdown",
   "metadata": {},
   "source": [
    "## Ejercicio 4\n",
    "Escribe una función que sea un contador de letras. En el primer argumento tienes que introducir un texto, y el segundo que sea la letra a contar. La función tiene que devolver un entero con el número de veces que aparece esa letra, tanto mayuscula, como minúscula"
   ]
  },
  {
   "cell_type": "code",
   "execution_count": 244,
   "metadata": {},
   "outputs": [],
   "source": [
    "def letter_count(sentence:str, letter:str) -> int:\n",
    "    number = int(sentence.count(letter))\n",
    "    return number"
   ]
  },
  {
   "cell_type": "code",
   "execution_count": 245,
   "metadata": {},
   "outputs": [
    {
     "data": {
      "text/plain": [
       "3"
      ]
     },
     "execution_count": 245,
     "metadata": {},
     "output_type": "execute_result"
    }
   ],
   "source": [
    "letter_count(\"Sally is a biatch\", \"a\")"
   ]
  },
  {
   "cell_type": "code",
   "execution_count": 181,
   "metadata": {},
   "outputs": [],
   "source": [
    "def letter_count() -> int:\n",
    "    sentence = input(\"Give me a sentence\")\n",
    "    letter = input(\"Give me a letter\")\n",
    "    if len(letter) == 1:\n",
    "        sentence = sentence.lower()\n",
    "        letter = letter.lower()\n",
    "        number = int(sentence.count(letter))\n",
    "        return number\n",
    "    else:\n",
    "        print(\"No\")\n",
    "        "
   ]
  },
  {
   "cell_type": "code",
   "execution_count": 182,
   "metadata": {},
   "outputs": [
    {
     "data": {
      "text/plain": [
       "13"
      ]
     },
     "execution_count": 182,
     "metadata": {},
     "output_type": "execute_result"
    }
   ],
   "source": [
    "letter_count()"
   ]
  },
  {
   "cell_type": "code",
   "execution_count": 246,
   "metadata": {},
   "outputs": [],
   "source": [
    "def letter_counter() -> int:\n",
    "    sentence = input(\"Give me a sentence\")\n",
    "    while True:\n",
    "        try:\n",
    "            letter = input(\"Give me a single letter\")\n",
    "            if len(letter) == 1:\n",
    "                sentence = sentence.lower()\n",
    "                letter = letter.lower()\n",
    "                number = int(sentence.count(letter))\n",
    "                return number\n",
    "            if len(letter) > 1:\n",
    "                raise ValueError\n",
    "        except ValueError:\n",
    "            print(\"Give me a single letter\")\n",
    "            continue\n",
    "        else:\n",
    "            break\n",
    "\n",
    "            \n",
    "            "
   ]
  },
  {
   "cell_type": "code",
   "execution_count": 247,
   "metadata": {},
   "outputs": [
    {
     "name": "stdout",
     "output_type": "stream",
     "text": [
      "Give me a single letter\n"
     ]
    },
    {
     "data": {
      "text/plain": [
       "4"
      ]
     },
     "execution_count": 247,
     "metadata": {},
     "output_type": "execute_result"
    }
   ],
   "source": [
    "letter_counter()"
   ]
  },
  {
   "cell_type": "markdown",
   "metadata": {},
   "source": [
    "## Ejercicio 5\n",
    "Escribe una función que tenga un único argumento, un string. La salida de la función tiene que ser un diccionario con el conteo de todas las letras de ese string."
   ]
  },
  {
   "cell_type": "code",
   "execution_count": 57,
   "metadata": {},
   "outputs": [],
   "source": [
    "def word_to_dict():\n",
    "    word = input()\n",
    "    letter_dict = {}\n",
    "    for i in word:\n",
    "        keys = letter_dict.keys()\n",
    "        if i in letter_dict:\n",
    "            letter_dict[i] += 1\n",
    "        else:\n",
    "            letter_dict[i] = 1\n",
    "    return letter_dict\n",
    "\n",
    "        \n",
    "\n",
    "\n",
    "\n"
   ]
  },
  {
   "cell_type": "code",
   "execution_count": 56,
   "metadata": {},
   "outputs": [
    {
     "data": {
      "text/plain": [
       "{}"
      ]
     },
     "execution_count": 56,
     "metadata": {},
     "output_type": "execute_result"
    }
   ],
   "source": [
    "word_to_dict()"
   ]
  },
  {
   "cell_type": "code",
   "execution_count": 237,
   "metadata": {},
   "outputs": [],
   "source": [
    "def word_to_dict():\n",
    "    word = input()\n",
    "    word_to_list = dict(enumerate(list(word)))\n",
    "    print(word_to_list)\n",
    "    print(type(word_to_list))"
   ]
  },
  {
   "cell_type": "code",
   "execution_count": 238,
   "metadata": {},
   "outputs": [
    {
     "name": "stdout",
     "output_type": "stream",
     "text": [
      "{0: 'h', 1: 'e', 2: 'y', 3: ' ', 4: 'h', 5: 'e', 6: 'y'}\n",
      "<class 'dict'>\n"
     ]
    }
   ],
   "source": [
    "word_to_dict()"
   ]
  },
  {
   "cell_type": "markdown",
   "metadata": {},
   "source": [
    "## Ejercicio 6\n",
    "Escribir una función que añada o elimine elementos en una lista. La función necesita los siguientes argumentos:\n",
    "* lista: la lista donde se añadirán o eliminarán los elementos\n",
    "* comando: \"add\" o \"remove\"\n",
    "* elemento: Por defecto es None."
   ]
  },
  {
   "cell_type": "code",
   "execution_count": null,
   "metadata": {},
   "outputs": [],
   "source": []
  },
  {
   "cell_type": "code",
   "execution_count": null,
   "metadata": {},
   "outputs": [],
   "source": []
  },
  {
   "cell_type": "code",
   "execution_count": null,
   "metadata": {},
   "outputs": [],
   "source": []
  },
  {
   "cell_type": "markdown",
   "metadata": {},
   "source": [
    "## Ejercicio 7\n",
    "Crea una función que reciba un número arbitrario de palabras, y devuelva una frase completa, separando las palabras con espacios."
   ]
  },
  {
   "cell_type": "code",
   "execution_count": null,
   "metadata": {},
   "outputs": [],
   "source": []
  },
  {
   "cell_type": "code",
   "execution_count": null,
   "metadata": {},
   "outputs": [],
   "source": []
  },
  {
   "cell_type": "markdown",
   "metadata": {},
   "source": [
    "## Ejercicio 8\n",
    "Escribe un programa que obtenga el enésimo número de la [serie de Fibonacci](https://es.wikipedia.org/wiki/Sucesi%C3%B3n_de_Fibonacci). Tienes que crear una función recursiva con un único argumento.\n",
    "\n",
    "```Python\n",
    "fibonacci(2) = 1\n",
    "fibonacci(4) = 3\n",
    "fibonacci(5) = 5\n",
    "fibonacci(8) = 21\n",
    "```"
   ]
  },
  {
   "cell_type": "code",
   "execution_count": null,
   "metadata": {},
   "outputs": [],
   "source": []
  },
  {
   "cell_type": "code",
   "execution_count": null,
   "metadata": {},
   "outputs": [],
   "source": []
  },
  {
   "cell_type": "markdown",
   "metadata": {},
   "source": [
    "## Ejercicio 9\n",
    "Define en una única celda las siguientes funciones:\n",
    "* Función que calcule el área de un cuadrado\n",
    "* Función que calcule el area de un triángulo\n",
    "* Función que calcule el área de un círculo\n",
    "\n",
    "En otra celda, calcular el area de:\n",
    "* Dos círculos de radio 10 + un triángulo de base 3 y altura 7\n",
    "* Un cuadrado de lado = 10 + 3 círculos (uno de radio = 4 y los otros dos de radio = 6) + 5 triángulos de base = 2 + altura = 4"
   ]
  },
  {
   "cell_type": "code",
   "execution_count": null,
   "metadata": {},
   "outputs": [],
   "source": []
  },
  {
   "cell_type": "code",
   "execution_count": null,
   "metadata": {},
   "outputs": [],
   "source": []
  },
  {
   "cell_type": "code",
   "execution_count": null,
   "metadata": {},
   "outputs": [],
   "source": []
  },
  {
   "cell_type": "code",
   "execution_count": null,
   "metadata": {},
   "outputs": [],
   "source": []
  },
  {
   "cell_type": "code",
   "execution_count": null,
   "metadata": {},
   "outputs": [],
   "source": []
  }
 ],
 "metadata": {
  "kernelspec": {
   "display_name": "Python 3",
   "language": "python",
   "name": "python3"
  },
  "language_info": {
   "codemirror_mode": {
    "name": "ipython",
    "version": 3
   },
   "file_extension": ".py",
   "mimetype": "text/x-python",
   "name": "python",
   "nbconvert_exporter": "python",
   "pygments_lexer": "ipython3",
   "version": "3.11.6"
  }
 },
 "nbformat": 4,
 "nbformat_minor": 4
}
